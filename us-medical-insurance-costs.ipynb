{
 "cells": [
  {
   "cell_type": "markdown",
   "metadata": {},
   "source": [
    "# Analysis of U.S. Medical Insurance Costs"
   ]
  },
  {
   "cell_type": "markdown",
   "metadata": {},
   "source": [
    "# Introduction\n",
    "\n",
    "This project will use Python to investigate a medical insurance dataset from https://www.kaggle.com/datasets/mirichoi0218/insurance. The steps are to import the data, observe, and analyze the dataset. The goals of the analysis will be to:\n",
    "\n",
    "+ Find out the average age, BMI, number of children, and charges in the dataset.\n",
    "+ Count the total number of men, women, smokers, non-smokers, and people in each region.\n",
    "+ Do a similiar analysis as above, but compare the aggregates by region.\n"
   ]
  },
  {
   "cell_type": "markdown",
   "metadata": {},
   "source": [
    "# Step 1: Import the data\n",
    "\n",
    "We will open `\"insurance.csv\"` and then read each line of the file, storing it in a list called `insurance _data`."
   ]
  },
  {
   "cell_type": "code",
   "execution_count": 1,
   "metadata": {},
   "outputs": [],
   "source": [
    "import csv\n",
    "\n",
    "with open(\"insurance.csv\") as insurance_file:\n",
    "    reader_obj = csv.reader(insurance_file)\n",
    "    insurance_data = []\n",
    "    for row in reader_obj:\n",
    "        insurance_data.append(row)\n",
    "        # Let the file close now that we've moved the data into a variable"
   ]
  },
  {
   "cell_type": "markdown",
   "metadata": {},
   "source": [
    "# Step 2: Observe the data\n",
    "\n",
    "Printing the first line of `insurance_data` will show us the column headers. Printing a few more lines will give us an idea of what the data looks like, and we can also check the data types."
   ]
  },
  {
   "cell_type": "code",
   "execution_count": 2,
   "metadata": {},
   "outputs": [
    {
     "name": "stdout",
     "output_type": "stream",
     "text": [
      "['age', 'sex', 'bmi', 'children', 'smoker', 'region', 'charges']\n",
      "['19', 'female', '27.9', '0', 'yes', 'southwest', '16884.924']\n",
      "['18', 'male', '33.77', '1', 'no', 'southeast', '1725.5523']\n",
      "['28', 'male', '33', '3', 'no', 'southeast', '4449.462']\n",
      "The data type of the age column is <class 'str'>\n",
      "The data type of the sex column is <class 'str'>\n",
      "The data type of the bmi column is <class 'str'>\n",
      "The data type of the children column is <class 'str'>\n",
      "The data type of the smoker column is <class 'str'>\n",
      "The data type of the region column is <class 'str'>\n",
      "The data type of the charges column is <class 'str'>\n"
     ]
    }
   ],
   "source": [
    "# Check what data we are working with\n",
    "print(insurance_data[0])\n",
    "print(insurance_data[1])\n",
    "print(insurance_data[2])\n",
    "print(insurance_data[3])\n",
    "\n",
    "for i in range(len(insurance_data[0])):\n",
    "    print(f\"The data type of the {insurance_data[0][i]} column is {type(insurance_data[1][i])}\")"
   ]
  },
  {
   "cell_type": "markdown",
   "metadata": {},
   "source": [
    "## 2.1: Organize the data\n",
    "\n",
    "OK! Now we know that every column contains strings. If we want to do any more analysis on numbers, we will have to convert them to floats. It would also be good to keep the headers and data seperate. To do this, we will change the data from a list to a dictionary with the headers as keys."
   ]
  },
  {
   "cell_type": "code",
   "execution_count": 3,
   "metadata": {
    "editable": true,
    "scrolled": true,
    "slideshow": {
     "slide_type": ""
    },
    "tags": []
   },
   "outputs": [],
   "source": [
    "# Begin by creating a dictionary with headers as keys and empty lists\n",
    "insurance_dict = {insurance_data[0][0]: [],\n",
    "                  insurance_data[0][1]: [],\n",
    "                  insurance_data[0][2]: [],\n",
    "                  insurance_data[0][3]: [],\n",
    "                  insurance_data[0][4]: [],\n",
    "                  insurance_data[0][5]: [],\n",
    "                  insurance_data[0][6]: []}\n",
    "\n",
    "# Populate the empty lists with data, changing relevant data types to floats\n",
    "columns_to_change = ['age', 'bmi', 'children', 'charges']\n",
    "key_list = list(insurance_dict)\n",
    "for index in range(len(list(insurance_dict))):\n",
    "    for row in insurance_data[1:]:\n",
    "        if key_list[index] in columns_to_change:\n",
    "            insurance_dict[key_list[index]].append(float(row[index]))\n",
    "        else:\n",
    "            insurance_dict[key_list[index]].append(row[index])"
   ]
  },
  {
   "cell_type": "markdown",
   "metadata": {},
   "source": [
    "# Step 3: Analyze the data"
   ]
  },
  {
   "cell_type": "markdown",
   "metadata": {},
   "source": [
    "## 3.1: Find aggregates of the entire dataset\n",
    "\n",
    "Now we can quickly find average age, bmi, children, and charges. We can also get a count for sex, smoker, and region."
   ]
  },
  {
   "cell_type": "code",
   "execution_count": 4,
   "metadata": {},
   "outputs": [
    {
     "name": "stdout",
     "output_type": "stream",
     "text": [
      "The average age in the dataset is: 39 years old.\n",
      "The average BMI in the dataset is: 30.66\n",
      "The average amount of children in the dataset is: 1\n",
      "The average charge in the dataset is: $13270.42\n",
      "There are 274 smokers and 1064 non-smokers.\n",
      "There are 662 women and 676 men. \n",
      "\n",
      "By region, there are: \n",
      "324 people from the northeast \n",
      "364 people from the southeast\n",
      "325 people from the northwest\n",
      "325 people from the southwest\n"
     ]
    }
   ],
   "source": [
    "def avg(list):\n",
    "    return sum(list) / len(list)\n",
    "\n",
    "print(f\"The average age in the dataset is: {round(avg(insurance_dict['age']))} years old.\")\n",
    "print(f\"The average BMI in the dataset is: {round(avg(insurance_dict['bmi']), 2)}\")\n",
    "print(f\"The average amount of children in the dataset is: {round(avg(insurance_dict['children']))}\")\n",
    "print(f\"The average charge in the dataset is: ${round(avg(insurance_dict['charges']), 2)}\")\n",
    "print(f\"There are {insurance_dict['smoker'].count('yes')} smokers and {insurance_dict['smoker'].count('no')} non-smokers.\")\n",
    "print(f\"There are {insurance_dict['sex'].count('female')} women and {insurance_dict['sex'].count('male')} men. \\n\")\n",
    "print(f\"\"\"By region, there are: \n",
    "{insurance_dict['region'].count('northeast')} people from the northeast \n",
    "{insurance_dict['region'].count('southeast')} people from the southeast\n",
    "{insurance_dict['region'].count('northwest')} people from the northwest\n",
    "{insurance_dict['region'].count('southwest')} people from the southwest\"\"\")"
   ]
  },
  {
   "cell_type": "markdown",
   "metadata": {},
   "source": [
    "## 3.2: Study by region\n",
    "\n",
    "Interseting! It looks like the count of people from each region is pretty close. If we split the dataset by region, we could take a look at the same aggregates that we performed on the whole set, but compare them by region."
   ]
  },
  {
   "cell_type": "code",
   "execution_count": 12,
   "metadata": {
    "editable": true,
    "slideshow": {
     "slide_type": ""
    },
    "tags": []
   },
   "outputs": [
    {
     "name": "stdout",
     "output_type": "stream",
     "text": [
      "\n",
      "    Region: national\n",
      "    Total people: 1338\n",
      "    Males: 676\n",
      "    Females: 662\n",
      "    Average age: 39\n",
      "    Average BMI: 30.66\n",
      "    Average number of children: 1\n",
      "    Smokers: 274\n",
      "    Nonsmokers: 1064\n",
      "    Average patient charge: $13270.42\n",
      "\n",
      "    Region: northeast\n",
      "    Total people: 324\n",
      "    Males: 163\n",
      "    Females: 161\n",
      "    Average age: 39\n",
      "    Average BMI: 29.17\n",
      "    Average number of children: 1\n",
      "    Smokers: 67\n",
      "    Nonsmokers: 257\n",
      "    Average patient charge: $13406.38\n",
      "\n",
      "    Region: southeast\n",
      "    Total people: 364\n",
      "    Males: 189\n",
      "    Females: 175\n",
      "    Average age: 39\n",
      "    Average BMI: 33.36\n",
      "    Average number of children: 1\n",
      "    Smokers: 91\n",
      "    Nonsmokers: 273\n",
      "    Average patient charge: $14735.41\n",
      "\n",
      "    Region: southwest\n",
      "    Total people: 325\n",
      "    Males: 163\n",
      "    Females: 162\n",
      "    Average age: 39\n",
      "    Average BMI: 30.6\n",
      "    Average number of children: 1\n",
      "    Smokers: 58\n",
      "    Nonsmokers: 267\n",
      "    Average patient charge: $12346.94\n",
      "\n",
      "    Region: northwest\n",
      "    Total people: 325\n",
      "    Males: 161\n",
      "    Females: 164\n",
      "    Average age: 39\n",
      "    Average BMI: 29.2\n",
      "    Average number of children: 1\n",
      "    Smokers: 58\n",
      "    Nonsmokers: 267\n",
      "    Average patient charge: $12417.58\n"
     ]
    }
   ],
   "source": [
    "# creates a regional dictionary with the same keys as the 'national_dict' but which holds values\n",
    "# for an individual region\n",
    "def create_regional_dict(region):\n",
    "    regional_dict = {'region': region,\n",
    "                     'age': [],\n",
    "                     'sex': [],\n",
    "                     'bmi': [],\n",
    "                     'children': [],\n",
    "                     'smoker': [],\n",
    "                     'charges': []\n",
    "                    }\n",
    "    for i in range(len(insurance_dict['age'])):\n",
    "        if insurance_dict['region'][i] == region:\n",
    "            regional_dict['age'].append(insurance_dict['age'][i])\n",
    "            regional_dict['sex'].append(insurance_dict['sex'][i])\n",
    "            regional_dict['bmi'].append(insurance_dict['bmi'][i])\n",
    "            regional_dict['children'].append(insurance_dict['children'][i])\n",
    "            regional_dict['smoker'].append(insurance_dict['smoker'][i])\n",
    "            regional_dict['charges'].append(insurance_dict['charges'][i])\n",
    "    return regional_dict\n",
    "        \n",
    "# use the above function to create regional dictionaries\n",
    "northeast_dict = create_regional_dict('northeast')\n",
    "southeast_dict = create_regional_dict('southeast')\n",
    "southwest_dict = create_regional_dict('southwest')\n",
    "northwest_dict = create_regional_dict('northwest')\n",
    "\n",
    "# replace value of the original dictionary 'region' key with 'national'\n",
    "national_dict = insurance_dict\n",
    "national_dict[\"region\"] = \"national\"\n",
    "\n",
    "# Create a function to print all of the details of a given region\n",
    "def print_details(region_dict):\n",
    "    print(f\"\"\"\n",
    "    Region: {region_dict['region']}\n",
    "    Total people: {len(region_dict['age'])}\n",
    "    Males: {region_dict['sex'].count('male')}\n",
    "    Females: {region_dict['sex'].count('female')}\n",
    "    Average age: {round(avg(region_dict['age']))}\n",
    "    Average BMI: {round(avg(region_dict['bmi']), 2)}\n",
    "    Average number of children: {round(avg(region_dict['children']))}\n",
    "    Smokers: {region_dict['smoker'].count('yes')}\n",
    "    Nonsmokers: {region_dict['smoker'].count('no')}\n",
    "    Average patient charge: ${round(avg(region_dict['charges']), 2)}\"\"\")\n",
    "\n",
    "print_details(national_dict)\n",
    "print_details(northeast_dict)\n",
    "print_details(southeast_dict)\n",
    "print_details(southwest_dict)\n",
    "print_details(northwest_dict)"
   ]
  },
  {
   "cell_type": "markdown",
   "metadata": {
    "jp-MarkdownHeadingCollapsed": true
   },
   "source": [
    "# Conclusion\n",
    "The original dataset showed that each US region is fairly evenly represented in the national dataset (though with a slightly larger showing from the southeast). This prompted an analysis by each of the four regions.\n",
    "\n",
    "Each region has a pretty even male:female ratio, average age, and average number of children.\n",
    "\n",
    "The southeast region has a notably higher average cost of insurance, which does correlate poitively with a higher average BMI and higher ratio of smokers:non-smokers compared to national results and other regions. Further analysis would be required to investigate if the link is causally connected."
   ]
  }
 ],
 "metadata": {
  "kernelspec": {
   "display_name": "Python 3 (ipykernel)",
   "language": "python",
   "name": "python3"
  },
  "language_info": {
   "codemirror_mode": {
    "name": "ipython",
    "version": 3
   },
   "file_extension": ".py",
   "mimetype": "text/x-python",
   "name": "python",
   "nbconvert_exporter": "python",
   "pygments_lexer": "ipython3",
   "version": "3.10.12"
  }
 },
 "nbformat": 4,
 "nbformat_minor": 4
}
